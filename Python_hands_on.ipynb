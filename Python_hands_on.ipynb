{
  "nbformat": 4,
  "nbformat_minor": 0,
  "metadata": {
    "colab": {
      "name": "Python hands-on.ipynb",
      "provenance": [],
      "collapsed_sections": [],
      "authorship_tag": "ABX9TyMm3wPxmbUQHIJKHUAjU38I",
      "include_colab_link": true
    },
    "kernelspec": {
      "name": "python3",
      "display_name": "Python 3"
    },
    "language_info": {
      "name": "python"
    }
  },
  "cells": [
    {
      "cell_type": "markdown",
      "metadata": {
        "id": "view-in-github",
        "colab_type": "text"
      },
      "source": [
        "<a href=\"https://colab.research.google.com/github/Solomon-shaibu/Solution/blob/main/Python_hands_on.ipynb\" target=\"_parent\"><img src=\"https://colab.research.google.com/assets/colab-badge.svg\" alt=\"Open In Colab\"/></a>"
      ]
    },
    {
      "cell_type": "code",
      "source": [
        "\n",
        "def two_levels_sum(list):\n",
        "    result = 0\n",
        "    for item in list:\n",
        "            if type(item) == type([]):\n",
        "                result=result+two_levels_sum(item)\n",
        "            else:\n",
        "                result=result+item\n",
        "    return result\n",
        "print(two_levels_sum([[5,8],[1,4,7],[10,3]]))"
      ],
      "metadata": {
        "colab": {
          "base_uri": "https://localhost:8080/"
        },
        "id": "vpxG-kXkIvxC",
        "outputId": "c6503ebc-c15a-46c8-8ef9-9ff80893aa2b"
      },
      "execution_count": 79,
      "outputs": [
        {
          "output_type": "stream",
          "name": "stdout",
          "text": [
            "38\n"
          ]
        }
      ]
    },
    {
      "cell_type": "code",
      "execution_count": null,
      "metadata": {
        "colab": {
          "base_uri": "https://localhost:8080/"
        },
        "id": "2cqJGM0RGZad",
        "outputId": "22e9026a-3769-469f-8fbd-2f78d40b0f1d"
      },
      "outputs": [
        {
          "output_type": "stream",
          "name": "stdout",
          "text": [
            "15\n"
          ]
        }
      ],
      "source": [
        "def sum_of_list():\n",
        " list=[1,2,3,4,5]\n",
        " sum_of_list=sum(list)\n",
        " print(sum_of_list)\n",
        "\n",
        "sum_of_list()"
      ]
    }
  ]
}